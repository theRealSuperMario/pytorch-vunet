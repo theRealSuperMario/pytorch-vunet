{
 "nbformat": 4,
 "nbformat_minor": 2,
 "metadata": {
  "language_info": {
   "name": "python",
   "codemirror_mode": {
    "name": "ipython",
    "version": 3
   },
   "version": "3.7.7-final"
  },
  "orig_nbformat": 2,
  "file_extension": ".py",
  "mimetype": "text/x-python",
  "name": "python",
  "npconvert_exporter": "python",
  "pygments_lexer": "ipython3",
  "version": 3,
  "kernelspec": {
   "name": "python37764bitcomputervisionbaselines2conda105fd934c34640bc91ce91f05f5de3ed",
   "display_name": "Python 3.7.7 64-bit ('computervisionbaselines2': conda)"
  }
 },
 "cells": [
  {
   "cell_type": "code",
   "execution_count": 1,
   "metadata": {},
   "outputs": [],
   "source": [
    "import sys\n",
    "sys.path.insert(0, \"..\")"
   ]
  },
  {
   "cell_type": "code",
   "execution_count": 2,
   "metadata": {},
   "outputs": [],
   "source": [
    "import numpy as np\n",
    "import src\n",
    "from src import stickman"
   ]
  },
  {
   "cell_type": "code",
   "execution_count": 3,
   "metadata": {},
   "outputs": [],
   "source": [
    "config = {\n",
    "\"dataset_params\" : {\n",
    "  \"data_dir\": \"../datasets/deepfashion/\",\n",
    "  \"index_p\" : \"../datasets/deepfashion/index.p\",\n",
    "  \"img_shape\" : [256, 256],\n",
    "  \"box_factor\" : 2\n",
    "}\n",
    "}"
   ]
  },
  {
   "cell_type": "code",
   "execution_count": 4,
   "metadata": {},
   "outputs": [],
   "source": [
    "from src.datasets.deepfashion import DeepfashionVal"
   ]
  },
  {
   "cell_type": "code",
   "execution_count": 5,
   "metadata": {},
   "outputs": [],
   "source": [
    "deepfasion_dataset = DeepfashionVal(config)"
   ]
  },
  {
   "cell_type": "code",
   "execution_count": 6,
   "metadata": {},
   "outputs": [],
   "source": [
    "example = deepfasion_dataset.get_example(5)"
   ]
  },
  {
   "cell_type": "code",
   "execution_count": 7,
   "metadata": {},
   "outputs": [
    {
     "data": {
      "text/plain": "dict_keys(['image_path', 'image', 'image_stickman', 'part_image', 'part_stickman', 'keypoints', 'joint_order'])"
     },
     "execution_count": 7,
     "metadata": {},
     "output_type": "execute_result"
    }
   ],
   "source": [
    "example.keys()"
   ]
  },
  {
   "cell_type": "code",
   "execution_count": null,
   "metadata": {},
   "outputs": [],
   "source": [
    "import cv2"
   ]
  },
  {
   "cell_type": "code",
   "execution_count": null,
   "metadata": {},
   "outputs": [],
   "source": [
    "import os"
   ]
  },
  {
   "cell_type": "code",
   "execution_count": 10,
   "metadata": {},
   "outputs": [],
   "source": [
    "from supermariopy import plotting, imageutils"
   ]
  },
  {
   "cell_type": "code",
   "execution_count": 11,
   "metadata": {},
   "outputs": [],
   "source": [
    "for k in [\"image\", \"image_stickman\"]:\n",
    "    img = imageutils.convert_range(example[k], [-1, 1], [0, 255])\n",
    "    img = cv2.cvtColor(img.astype(np.uint8), cv2.COLOR_BGR2RGB)\n",
    "    cv2.imwrite(k + \".png\", img)"
   ]
  },
  {
   "cell_type": "code",
   "execution_count": 12,
   "metadata": {},
   "outputs": [],
   "source": [
    "for k in [\"part_image\", \"part_stickman\"]:\n",
    "    img = imageutils.convert_range(example[k], [-1, 1], [0, 255])\n",
    "    img = np.split(img, 8, axis=-1)\n",
    "    img = np.stack(img, axis=0)\n",
    "    img = imageutils.batch_to_canvas(img)\n",
    "    img = cv2.cvtColor(img.astype(np.uint8), cv2.COLOR_BGR2RGB)\n",
    "    cv2.imwrite(k + \".png\", img)"
   ]
  },
  {
   "cell_type": "markdown",
   "metadata": {},
   "source": [
    "# Draw Crops onto image"
   ]
  },
  {
   "cell_type": "code",
   "execution_count": 13,
   "metadata": {},
   "outputs": [],
   "source": [
    "import seaborn as sns"
   ]
  },
  {
   "cell_type": "code",
   "execution_count": 14,
   "metadata": {},
   "outputs": [],
   "source": [
    "colors = sns.color_palette(\"coolwarm\", 8)\n",
    "colors = np.array(colors) * 255"
   ]
  },
  {
   "cell_type": "code",
   "execution_count": 15,
   "metadata": {},
   "outputs": [],
   "source": [
    "from typing import *"
   ]
  },
  {
   "cell_type": "code",
   "execution_count": 16,
   "metadata": {},
   "outputs": [],
   "source": [
    "for k in [\"image\", \"image_stickman\"]:\n",
    "    kps = example[\"keypoints\"]\n",
    "    joint_order = example[\"joint_order\"]\n",
    "    bparts = stickman.VUNetStickman.VUNET_CROP_PARTS\n",
    "    img = imageutils.convert_range(example[k], [-1, 1], [0, 255])\n",
    "    img = cv2.cvtColor(img.astype(np.uint8), cv2.COLOR_BGR2RGB)\n",
    "    visualized_image = stickman.VUNetStickman.visualize_body_parts(\n",
    "        img, kps * 256, joint_order, bparts, colors\n",
    "    )\n",
    "    cv2.imwrite(k + \"_crop_boxes.png\", visualized_image)"
   ]
  },
  {
   "cell_type": "code",
   "execution_count": null,
   "metadata": {},
   "outputs": [],
   "source": []
  }
 ]
}